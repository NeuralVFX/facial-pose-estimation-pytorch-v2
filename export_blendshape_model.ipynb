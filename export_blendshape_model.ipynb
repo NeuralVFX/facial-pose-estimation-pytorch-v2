{
  "nbformat": 4,
  "nbformat_minor": 0,
  "metadata": {
    "colab": {
      "name": "facialpose-blendshape-jit.ipynb",
      "provenance": []
    },
    "kernelspec": {
      "display_name": "Python 3",
      "name": "python3"
    },
    "accelerator": "GPU"
  },
  "cells": [
    {
      "cell_type": "markdown",
      "metadata": {
        "id": "99B1PLWWGqJn"
      },
      "source": [
        "# **Export Blendshape Deformation Model**"
      ]
    },
    {
      "cell_type": "code",
      "metadata": {
        "id": "H8tnRf8TTgMq"
      },
      "source": [
        "import torch\r\n",
        "from torch import nn\r\n",
        "import json\r\n",
        "import numpy as np\r\n",
        "\r\n",
        "\r\n",
        "class BlendShape(nn.Module):\r\n",
        "    \"\"\" Module to deform head model based on blendshapes for PnP solve\r\n",
        "\r\n",
        "    Attributes:\r\n",
        "      data (int): json data containing 3d points for face and blendshapes\r\n",
        "      bs_list (list): keys for json dictionary\r\n",
        "      face (torch.tensor): tensor containing 3d points for face\r\n",
        "      bs_tensor (torch.tensor): tensor containing 3d points for blendshapes\r\n",
        "      landmark_ids (torch.tensor): ids used for PnP solve\r\n",
        "      lock_mask (torch.tensor): mask for which ids consider blend shapes\r\n",
        "      lock_eyes_nose (bool): whether or not to use lock mask\r\n",
        "    \"\"\"\r\n",
        "    def __init__(self, blendshapes='./data/bs_points_a.json'):\r\n",
        "        \"\"\" Initiate class\r\n",
        "\r\n",
        "          Args:\r\n",
        "            blendshapes (string): json file containing blendshapes\r\n",
        "        \"\"\"\r\n",
        "\r\n",
        "        super(BlendShape, self).__init__()\r\n",
        "\r\n",
        "        with open(blendshapes) as json_file:\r\n",
        "            self.data = json.load(json_file)\r\n",
        "\r\n",
        "        self.bs_list = ['BS.Mesh'] + [f'BS.Mesh{num}' for num in range(1, 51)]\r\n",
        "\r\n",
        "        keys = self.data['default'].keys()\r\n",
        "        self.register_buffer('face', torch.tensor(\r\n",
        "            np.array([self.data['default'][k] for k in keys ])))\r\n",
        "\r\n",
        "        bs_list = []\r\n",
        "        for key in self.bs_list:\r\n",
        "            bs_list.append([self.data['blend_shapes'][key][k] for k in keys])\r\n",
        "\r\n",
        "        self.register_buffer('bs_tensor',\r\n",
        "                             torch.tensor(np.array(bs_list)))\r\n",
        "\r\n",
        "        self.register_buffer('landmark_ids',\r\n",
        "                             torch.tensor([18,2,24,33,36,42]))\r\n",
        "\r\n",
        "        self.register_buffer('lock_mask',\r\n",
        "                             torch.tensor([0.,1.,0.,0.,1.,1.]))\r\n",
        "        \r\n",
        "        self.lock_eyes_nose = True\r\n",
        "\r\n",
        "\r\n",
        "    def forward(self, y_hat):\r\n",
        "        \"\"\" Forward pass\r\n",
        "\r\n",
        "          Args:\r\n",
        "            y_hat (torch.tensor): predicted blendshape values\r\n",
        "\r\n",
        "          Returns:\r\n",
        "            torch.tensor: face points deformed by blend shapes\r\n",
        "        \"\"\"\r\n",
        "        \r\n",
        "        selected_bs_points = torch.index_select(self.bs_tensor,\r\n",
        "                                                1,self.landmark_ids)\r\n",
        "        \r\n",
        "        selected_face_points = torch.index_select(self.face,\r\n",
        "                                                  0,self.landmark_ids)\r\n",
        "        \r\n",
        "        y_hat_blend_weighted = selected_bs_points * y_hat[:, None, None]\r\n",
        "\r\n",
        "        if self.lock_eyes_nose:\r\n",
        "          final_blend = y_hat_blend_weighted.sum(dim=0)*self.lock_mask[:,None]\r\n",
        "        else:\r\n",
        "          final_blend = y_hat_blend_weighted.sum(dim=0)\r\n",
        "\r\n",
        "        y_hat_face = selected_face_points + final_blend\r\n",
        "\r\n",
        "        return y_hat_face\r\n",
        "\r\n"
      ],
      "execution_count": 3,
      "outputs": []
    },
    {
      "cell_type": "code",
      "metadata": {
        "id": "QIaMsLrWjafN"
      },
      "source": [
        "\r\n",
        "bs_jit = torch.jit.script(BlendShape().cuda())\r\n",
        "bs_jit.save('blendshape_model.ptc')\r\n"
      ],
      "execution_count": 4,
      "outputs": []
    }
  ]
}